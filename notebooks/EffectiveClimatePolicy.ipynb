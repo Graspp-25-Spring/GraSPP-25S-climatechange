{
  "cells": [
    {
      "cell_type": "markdown",
      "metadata": {
        "colab_type": "text",
        "id": "view-in-github"
      },
      "source": [
        "<a href=\"https://colab.research.google.com/github/aratatokyo/GraSPP-25S-climatechange/blob/MO-Zuanbin/EffectiveClimatePolicy.ipynb\" target=\"_parent\"><img src=\"https://colab.research.google.com/assets/colab-badge.svg\" alt=\"Open In Colab\"/></a>"
      ]
    },
    {
      "cell_type": "markdown",
      "metadata": {
        "id": "xZEU05aVTAji"
      },
      "source": [
        "# The Effective Climate Policies\n",
        "\n",
        "Datasource: https://climate-policy-explorer.shinyapps.io/climate-policies-dashboard/download/\n",
        "*斜体テキスト*\n",
        "Using the Science paper’s supplementary appendix, I compiled the set of climate policies found to be effective in the study and organized them according to their respective sectors."
      ]
    },
    {
      "cell_type": "markdown",
      "metadata": {
        "id": "PQI1o9vbbQmd"
      },
      "source": [
        "# 1. Import Data"
      ]
    },
    {
      "cell_type": "code",
      "execution_count": 1,
      "metadata": {
        "colab": {
          "base_uri": "https://localhost:8080/",
          "height": 206
        },
        "id": "K5vHsZgSToQe",
        "outputId": "46f88b45-bebb-44cd-e7da-1aaba79781e6"
      },
      "outputs": [
        {
          "data": {
            "text/html": [
              "<div>\n",
              "<style scoped>\n",
              "    .dataframe tbody tr th:only-of-type {\n",
              "        vertical-align: middle;\n",
              "    }\n",
              "\n",
              "    .dataframe tbody tr th {\n",
              "        vertical-align: top;\n",
              "    }\n",
              "\n",
              "    .dataframe thead th {\n",
              "        text-align: right;\n",
              "    }\n",
              "</style>\n",
              "<table border=\"1\" class=\"dataframe\">\n",
              "  <thead>\n",
              "    <tr style=\"text-align: right;\">\n",
              "      <th></th>\n",
              "      <th>Sector</th>\n",
              "      <th>Policy_subcategory</th>\n",
              "      <th>Year</th>\n",
              "      <th>Policy_name</th>\n",
              "      <th>Instrument</th>\n",
              "      <th>Country</th>\n",
              "      <th>Break_id</th>\n",
              "    </tr>\n",
              "  </thead>\n",
              "  <tbody>\n",
              "    <tr>\n",
              "      <th>0</th>\n",
              "      <td>Buildings</td>\n",
              "      <td>Financing Mechanism Buildings</td>\n",
              "      <td>2018</td>\n",
              "      <td>Financing mechanism</td>\n",
              "      <td>Subsidy</td>\n",
              "      <td>Australia</td>\n",
              "      <td>AUS_2019_Buildings</td>\n",
              "    </tr>\n",
              "    <tr>\n",
              "      <th>1</th>\n",
              "      <td>Buildings</td>\n",
              "      <td>Bans and Phaseouts Fossil Fuels Heating</td>\n",
              "      <td>2019</td>\n",
              "      <td>Ban &amp; phase out</td>\n",
              "      <td>Regulation</td>\n",
              "      <td>Denmark</td>\n",
              "      <td>DNK_2020_Buildings</td>\n",
              "    </tr>\n",
              "    <tr>\n",
              "      <th>2</th>\n",
              "      <td>Buildings</td>\n",
              "      <td>Financing Mechanism Buildings</td>\n",
              "      <td>2011</td>\n",
              "      <td>Financing mechanism</td>\n",
              "      <td>Subsidy</td>\n",
              "      <td>Greece</td>\n",
              "      <td>GRC_2012_Buildings</td>\n",
              "    </tr>\n",
              "    <tr>\n",
              "      <th>3</th>\n",
              "      <td>Buildings</td>\n",
              "      <td>Fossil Fuel Subsides Buildings</td>\n",
              "      <td>2012</td>\n",
              "      <td>Fossil fuel subsidy reform</td>\n",
              "      <td>Pricing</td>\n",
              "      <td>Greece</td>\n",
              "      <td>GRC_2012_Buildings</td>\n",
              "    </tr>\n",
              "    <tr>\n",
              "      <th>4</th>\n",
              "      <td>Buildings</td>\n",
              "      <td>BuildingEnergyCodes</td>\n",
              "      <td>2013</td>\n",
              "      <td>Building code</td>\n",
              "      <td>Regulation</td>\n",
              "      <td>Greece</td>\n",
              "      <td>GRC_2012_Buildings</td>\n",
              "    </tr>\n",
              "  </tbody>\n",
              "</table>\n",
              "</div>"
            ],
            "text/plain": [
              "      Sector                       Policy_subcategory  Year  \\\n",
              "0  Buildings            Financing Mechanism Buildings  2018   \n",
              "1  Buildings  Bans and Phaseouts Fossil Fuels Heating  2019   \n",
              "2  Buildings            Financing Mechanism Buildings  2011   \n",
              "3  Buildings           Fossil Fuel Subsides Buildings  2012   \n",
              "4  Buildings                      BuildingEnergyCodes  2013   \n",
              "\n",
              "                  Policy_name  Instrument    Country            Break_id  \n",
              "0         Financing mechanism     Subsidy  Australia  AUS_2019_Buildings  \n",
              "1             Ban & phase out  Regulation    Denmark  DNK_2020_Buildings  \n",
              "2         Financing mechanism     Subsidy     Greece  GRC_2012_Buildings  \n",
              "3  Fossil fuel subsidy reform     Pricing     Greece  GRC_2012_Buildings  \n",
              "4               Building code  Regulation     Greece  GRC_2012_Buildings  "
            ]
          },
          "execution_count": 1,
          "metadata": {},
          "output_type": "execute_result"
        }
      ],
      "source": [
        "import pandas as pd\n",
        "df = pd.read_csv('../data/raw/policies_download.csv')\n",
        "df.head(5)"
      ]
    },
    {
      "cell_type": "markdown",
      "metadata": {
        "id": "1Sae81sHf2kQ"
      },
      "source": [
        "# 2. Statistical Description on Climate Policies"
      ]
    },
    {
      "cell_type": "code",
      "execution_count": 2,
      "metadata": {
        "colab": {
          "base_uri": "https://localhost:8080/"
        },
        "id": "ttnHHBFRf2sg",
        "outputId": "5ebe80cc-13c9-4c73-c92b-31eddac7968e"
      },
      "outputs": [
        {
          "name": "stdout",
          "output_type": "stream",
          "text": [
            "=== Sector Implementation Counts ===\n",
            "     Sector  Count\n",
            "  Buildings     54\n",
            "  Transport     53\n",
            "Electricity     37\n",
            "   Industry     32\n",
            "=== Policy_name Implementation Counts ===\n",
            "                 Policy_name  Count\n",
            "                    Taxation     18\n",
            "         Financing mechanism     16\n",
            "            Adoption subsidy     16\n",
            "                     EU-MEPS     15\n",
            "             Ban & phase out     14\n",
            "        Performance standard     13\n",
            "          Taxation (driving)     13\n",
            "           Renewable subsidy      8\n",
            " Public expenditure for rail      8\n",
            "  Fossil fuel subsidy reform      7\n",
            "                   EU-Labels      7\n",
            "               Building code      6\n",
            "Renewable portfolio standard      6\n",
            "          Taxation (vehicle)      6\n",
            "                      EU-ETS      6\n",
            "          Renewable planning      5\n",
            "                       Label      5\n",
            "   Energy efficiency mandate      4\n",
            "                      Label       2\n",
            "      Air pollution standard      1\n",
            "\n",
            "=== Instrument Implementation Counts ===\n",
            " Instrument  Count\n",
            " Regulation     64\n",
            "    Pricing     50\n",
            "    Subsidy     48\n",
            "Information     14\n"
          ]
        }
      ],
      "source": [
        "sector_counts = (\n",
        "    df['Sector']\n",
        "    .value_counts()\n",
        "    .rename_axis('Sector')\n",
        "    .reset_index(name='Count')\n",
        ")\n",
        "\n",
        "policy_counts = (\n",
        "    df['Policy_name']\n",
        "    .value_counts()\n",
        "    .rename_axis('Policy_name')\n",
        "    .reset_index(name='Count')\n",
        ")\n",
        "\n",
        "instrument_counts = (\n",
        "    df['Instrument']\n",
        "    .value_counts()\n",
        "    .rename_axis('Instrument')\n",
        "    .reset_index(name='Count')\n",
        ")\n",
        "\n",
        "print(\"=== Sector Implementation Counts ===\")\n",
        "print(sector_counts.to_string(index=False))\n",
        "\n",
        "print(\"=== Policy_name Implementation Counts ===\")\n",
        "print(policy_counts.to_string(index=False))\n",
        "\n",
        "print(\"\\n=== Instrument Implementation Counts ===\")\n",
        "print(instrument_counts.to_string(index=False))"
      ]
    },
    {
      "cell_type": "markdown",
      "metadata": {
        "id": "0WTf--UxXH2C"
      },
      "source": [
        "# 3. Visualization"
      ]
    },
    {
      "cell_type": "code",
      "execution_count": 3,
      "metadata": {
        "colab": {
          "base_uri": "https://localhost:8080/",
          "height": 505
        },
        "id": "FGcjX-QWXH_3",
        "outputId": "bac3d3d8-86b7-4fc0-86fd-efcae4f86fed"
      },
      "outputs": [
        {
          "data": {
            "image/png": "[encoded data removed]",
            "text/plain": [
              "<Figure size 1200x600 with 1 Axes>"
            ]
          },
          "metadata": {},
          "output_type": "display_data"
        }
      ],
      "source": [
        "import matplotlib.pyplot as plt\n",
        "\n",
        "counts = (\n",
        "    df\n",
        "    .groupby(['Country', 'Sector'])\n",
        "    .size()\n",
        "    .reset_index(name='count')\n",
        ")\n",
        "\n",
        "\n",
        "pivot = counts.pivot(index='Country', columns='Sector', values='count').fillna(0)\n",
        "\n",
        "fig, ax = plt.subplots(figsize=(12, 6))\n",
        "pivot.plot(\n",
        "    kind='bar',\n",
        "    stacked=True,\n",
        "    ax=ax,\n",
        "    width=0.8\n",
        ")\n",
        "\n",
        "ax.set_xlabel('Country', fontsize=12)\n",
        "ax.set_ylabel('Number of Policies', fontsize=12)\n",
        "ax.set_title('Climate Policy Implementation Counts by Country and Sector', fontsize=14)\n",
        "ax.legend(title='Sector', bbox_to_anchor=(1.02, 1), loc='upper left')\n",
        "plt.xticks(rotation=45, ha='right')\n",
        "plt.tight_layout()\n",
        "\n",
        "plt.show()\n"
      ]
    },
    {
      "cell_type": "code",
      "execution_count": 5,
      "metadata": {
        "colab": {
          "base_uri": "https://localhost:8080/",
          "height": 542
        },
        "id": "igZq6G_7ZkLe",
        "outputId": "6b897dd7-a366-4325-b3b0-3432b4b1009a"
      },
      "outputs": [
        {
          "data": {
            "application/vnd.plotly.v1+json": {
              "config": {
                "plotlyServerURL": "https://plot.ly"
              },
              "data": [
                {
                  "branchvalues": "total",
                  "domain": {
                    "x": [
                      0,
                      1
                    ],
                    "y": [
                      0,
                      1
                    ]
                  },
                  "hovertemplate": "<b>%{label}</b><br>Count: %{value}<extra></extra>",
                  "ids": [
                    "Buildings/Adoption subsidy/Subsidy",
                    "Buildings/Ban & phase out/Regulation",
                    "Buildings/Building code/Regulation",
                    "Buildings/EU-Labels/Information",
                    "Buildings/EU-MEPS/Regulation",
                    "Buildings/Financing mechanism/Subsidy",
                    "Buildings/Fossil fuel subsidy reform/Pricing",
                    "Buildings/Label/Information",
                    "Buildings/Performance standard/Regulation",
                    "Buildings/Taxation/Pricing",
                    "Electricity/Air pollution standard/Regulation",
                    "Electricity/Ban & phase out/Regulation",
                    "Electricity/EU-ETS/Pricing",
                    "Electricity/Fossil fuel subsidy reform/Pricing",
                    "Electricity/Renewable planning/Regulation",
                    "Electricity/Renewable portfolio standard/Regulation",
                    "Electricity/Renewable subsidy/Subsidy",
                    "Electricity/Taxation/Pricing",
                    "Industry/EU-ETS/Pricing",
                    "Industry/EU-MEPS/Regulation",
                    "Industry/Energy efficiency mandate/Regulation",
                    "Industry/Financing mechanism/Subsidy",
                    "Industry/Fossil fuel subsidy reform/Pricing",
                    "Industry/Performance standard/Regulation",
                    "Industry/Taxation/Pricing",
                    "Transport/Adoption subsidy/Subsidy",
                    "Transport/Ban & phase out/Regulation",
                    "Transport/EU-MEPS/Regulation",
                    "Transport/Fossil fuel subsidy reform/Pricing",
                    "Transport/Label /Information",
                    "Transport/Performance standard/Regulation",
                    "Transport/Public expenditure for rail/Subsidy",
                    "Transport/Taxation (driving)/Pricing",
                    "Transport/Taxation (vehicle)/Pricing",
                    "Buildings/Adoption subsidy",
                    "Buildings/Ban & phase out",
                    "Buildings/Building code",
                    "Buildings/EU-Labels",
                    "Buildings/EU-MEPS",
                    "Buildings/Financing mechanism",
                    "Buildings/Fossil fuel subsidy reform",
                    "Buildings/Label",
                    "Buildings/Performance standard",
                    "Buildings/Taxation",
                    "Electricity/Air pollution standard",
                    "Electricity/Ban & phase out",
                    "Electricity/EU-ETS",
                    "Electricity/Fossil fuel subsidy reform",
                    "Electricity/Renewable planning",
                    "Electricity/Renewable portfolio standard",
                    "Electricity/Renewable subsidy",
                    "Electricity/Taxation",
                    "Industry/EU-ETS",
                    "Industry/EU-MEPS",
                    "Industry/Energy efficiency mandate",
                    "Industry/Financing mechanism",
                    "Industry/Fossil fuel subsidy reform",
                    "Industry/Performance standard",
                    "Industry/Taxation",
                    "Transport/Adoption subsidy",
                    "Transport/Ban & phase out",
                    "Transport/EU-MEPS",
                    "Transport/Fossil fuel subsidy reform",
                    "Transport/Label ",
                    "Transport/Performance standard",
                    "Transport/Public expenditure for rail",
                    "Transport/Taxation (driving)",
                    "Transport/Taxation (vehicle)",
                    "Buildings",
                    "Electricity",
                    "Industry",
                    "Transport"
                  ],
                  "labels": [
                    "Subsidy",
                    "Regulation",
                    "Regulation",
                    "Information",
                    "Regulation",
                    "Subsidy",
                    "Pricing",
                    "Information",
                    "Regulation",
                    "Pricing",
                    "Regulation",
                    "Regulation",
                    "Pricing",
                    "Pricing",
                    "Regulation",
                    "Regulation",
                    "Subsidy",
                    "Pricing",
                    "Pricing",
                    "Regulation",
                    "Regulation",
                    "Subsidy",
                    "Pricing",
                    "Regulation",
                    "Pricing",
                    "Subsidy",
                    "Regulation",
                    "Regulation",
                    "Pricing",
                    "Information",
                    "Regulation",
                    "Subsidy",
                    "Pricing",
                    "Pricing",
                    "Adoption subsidy",
                    "Ban & phase out",
                    "Building code",
                    "EU-Labels",
                    "EU-MEPS",
                    "Financing mechanism",
                    "Fossil fuel subsidy reform",
                    "Label",
                    "Performance standard",
                    "Taxation",
                    "Air pollution standard",
                    "Ban & phase out",
                    "EU-ETS",
                    "Fossil fuel subsidy reform",
                    "Renewable planning",
                    "Renewable portfolio standard",
                    "Renewable subsidy",
                    "Taxation",
                    "EU-ETS",
                    "EU-MEPS",
                    "Energy efficiency mandate",
                    "Financing mechanism",
                    "Fossil fuel subsidy reform",
                    "Performance standard",
                    "Taxation",
                    "Adoption subsidy",
                    "Ban & phase out",
                    "EU-MEPS",
                    "Fossil fuel subsidy reform",
                    "Label ",
                    "Performance standard",
                    "Public expenditure for rail",
                    "Taxation (driving)",
                    "Taxation (vehicle)",
                    "Buildings",
                    "Electricity",
                    "Industry",
                    "Transport"
                  ],
                  "name": "",
                  "parents": [
                    "Buildings/Adoption subsidy",
                    "Buildings/Ban & phase out",
                    "Buildings/Building code",
                    "Buildings/EU-Labels",
                    "Buildings/EU-MEPS",
                    "Buildings/Financing mechanism",
                    "Buildings/Fossil fuel subsidy reform",
                    "Buildings/Label",
                    "Buildings/Performance standard",
                    "Buildings/Taxation",
                    "Electricity/Air pollution standard",
                    "Electricity/Ban & phase out",
                    "Electricity/EU-ETS",
                    "Electricity/Fossil fuel subsidy reform",
                    "Electricity/Renewable planning",
                    "Electricity/Renewable portfolio standard",
                    "Electricity/Renewable subsidy",
                    "Electricity/Taxation",
                    "Industry/EU-ETS",
                    "Industry/EU-MEPS",
                    "Industry/Energy efficiency mandate",
                    "Industry/Financing mechanism",
                    "Industry/Fossil fuel subsidy reform",
                    "Industry/Performance standard",
                    "Industry/Taxation",
                    "Transport/Adoption subsidy",
                    "Transport/Ban & phase out",
                    "Transport/EU-MEPS",
                    "Transport/Fossil fuel subsidy reform",
                    "Transport/Label ",
                    "Transport/Performance standard",
                    "Transport/Public expenditure for rail",
                    "Transport/Taxation (driving)",
                    "Transport/Taxation (vehicle)",
                    "Buildings",
                    "Buildings",
                    "Buildings",
                    "Buildings",
                    "Buildings",
                    "Buildings",
                    "Buildings",
                    "Buildings",
                    "Buildings",
                    "Buildings",
                    "Electricity",
                    "Electricity",
                    "Electricity",
                    "Electricity",
                    "Electricity",
                    "Electricity",
                    "Electricity",
                    "Electricity",
                    "Industry",
                    "Industry",
                    "Industry",
                    "Industry",
                    "Industry",
                    "Industry",
                    "Industry",
                    "Transport",
                    "Transport",
                    "Transport",
                    "Transport",
                    "Transport",
                    "Transport",
                    "Transport",
                    "Transport",
                    "Transport",
                    "",
                    "",
                    "",
                    ""
                  ],
                  "type": "sunburst",
                  "values": {
                    "bdata": "AAAAAAAAFEAAAAAAAAAIQAAAAAAAABhAAAAAAAAAHEAAAAAAAAAYQAAAAAAAACJAAAAAAAAACEAAAAAAAAAUQAAAAAAAABRAAAAAAAAAFEAAAAAAAADwPwAAAAAAABhAAAAAAAAAAEAAAAAAAADwPwAAAAAAABRAAAAAAAAAGEAAAAAAAAAgQAAAAAAAACBAAAAAAAAAEEAAAAAAAAAcQAAAAAAAABBAAAAAAAAAHEAAAAAAAAAAQAAAAAAAAAhAAAAAAAAAFEAAAAAAAAAmQAAAAAAAABRAAAAAAAAAAEAAAAAAAADwPwAAAAAAAABAAAAAAAAAFEAAAAAAAAAgQAAAAAAAACpAAAAAAAAAGEAAAAAAAAAUQAAAAAAAAAhAAAAAAAAAGEAAAAAAAAAcQAAAAAAAABhAAAAAAAAAIkAAAAAAAAAIQAAAAAAAABRAAAAAAAAAFEAAAAAAAAAUQAAAAAAAAPA/AAAAAAAAGEAAAAAAAAAAQAAAAAAAAPA/AAAAAAAAFEAAAAAAAAAYQAAAAAAAACBAAAAAAAAAIEAAAAAAAAAQQAAAAAAAABxAAAAAAAAAEEAAAAAAAAAcQAAAAAAAAABAAAAAAAAACEAAAAAAAAAUQAAAAAAAACZAAAAAAAAAFEAAAAAAAAAAQAAAAAAAAPA/AAAAAAAAAEAAAAAAAAAUQAAAAAAAACBAAAAAAAAAKkAAAAAAAAAYQAAAAAAAAEtAAAAAAACAQkAAAAAAAABAQAAAAAAAgEpA",
                    "dtype": "f8"
                  }
                }
              ],
              "layout": {
                "legend": {
                  "tracegroupgap": 0
                },
                "template": {
                  "data": {
                    "bar": [
                      {
                        "error_x": {
                          "color": "#2a3f5f"
                        },
                        "error_y": {
                          "color": "#2a3f5f"
                        },
                        "marker": {
                          "line": {
                            "color": "#E5ECF6",
                            "width": 0.5
                          },
                          "pattern": {
                            "fillmode": "overlay",
                            "size": 10,
                            "solidity": 0.2
                          }
                        },
                        "type": "bar"
                      }
                    ],
                    "barpolar": [
                      {
                        "marker": {
                          "line": {
                            "color": "#E5ECF6",
                            "width": 0.5
                          },
                          "pattern": {
                            "fillmode": "overlay",
                            "size": 10,
                            "solidity": 0.2
                          }
                        },
                        "type": "barpolar"
                      }
                    ],
                    "carpet": [
                      {
                        "aaxis": {
                          "endlinecolor": "#2a3f5f",
                          "gridcolor": "white",
                          "linecolor": "white",
                          "minorgridcolor": "white",
                          "startlinecolor": "#2a3f5f"
                        },
                        "baxis": {
                          "endlinecolor": "#2a3f5f",
                          "gridcolor": "white",
                          "linecolor": "white",
                          "minorgridcolor": "white",
                          "startlinecolor": "#2a3f5f"
                        },
                        "type": "carpet"
                      }
                    ],
                    "choropleth": [
                      {
                        "colorbar": {
                          "outlinewidth": 0,
                          "ticks": ""
                        },
                        "type": "choropleth"
                      }
                    ],
                    "contour": [
                      {
                        "colorbar": {
                          "outlinewidth": 0,
                          "ticks": ""
                        },
                        "colorscale": [
                          [
                            0,
                            "#0d0887"
                          ],
                          [
                            0.1111111111111111,
                            "#46039f"
                          ],
                          [
                            0.2222222222222222,
                            "#7201a8"
                          ],
                          [
                            0.3333333333333333,
                            "#9c179e"
                          ],
                          [
                            0.4444444444444444,
                            "#bd3786"
                          ],
                          [
                            0.5555555555555556,
                            "#d8576b"
                          ],
                          [
                            0.6666666666666666,
                            "#ed7953"
                          ],
                          [
                            0.7777777777777778,
                            "#fb9f3a"
                          ],
                          [
                            0.8888888888888888,
                            "#fdca26"
                          ],
                          [
                            1,
                            "#f0f921"
                          ]
                        ],
                        "type": "contour"
                      }
                    ],
                    "contourcarpet": [
                      {
                        "colorbar": {
                          "outlinewidth": 0,
                          "ticks": ""
                        },
                        "type": "contourcarpet"
                      }
                    ],
                    "heatmap": [
                      {
                        "colorbar": {
                          "outlinewidth": 0,
                          "ticks": ""
                        },
                        "colorscale": [
                          [
                            0,
                            "#0d0887"
                          ],
                          [
                            0.1111111111111111,
                            "#46039f"
                          ],
                          [
                            0.2222222222222222,
                            "#7201a8"
                          ],
                          [
                            0.3333333333333333,
                            "#9c179e"
                          ],
                          [
                            0.4444444444444444,
                            "#bd3786"
                          ],
                          [
                            0.5555555555555556,
                            "#d8576b"
                          ],
                          [
                            0.6666666666666666,
                            "#ed7953"
                          ],
                          [
                            0.7777777777777778,
                            "#fb9f3a"
                          ],
                          [
                            0.8888888888888888,
                            "#fdca26"
                          ],
                          [
                            1,
                            "#f0f921"
                          ]
                        ],
                        "type": "heatmap"
                      }
                    ],
                    "histogram": [
                      {
                        "marker": {
                          "pattern": {
                            "fillmode": "overlay",
                            "size": 10,
                            "solidity": 0.2
                          }
                        },
                        "type": "histogram"
                      }
                    ],
                    "histogram2d": [
                      {
                        "colorbar": {
                          "outlinewidth": 0,
                          "ticks": ""
                        },
                        "colorscale": [
                          [
                            0,
                            "#0d0887"
                          ],
                          [
                            0.1111111111111111,
                            "#46039f"
                          ],
                          [
                            0.2222222222222222,
                            "#7201a8"
                          ],
                          [
                            0.3333333333333333,
                            "#9c179e"
                          ],
                          [
                            0.4444444444444444,
                            "#bd3786"
                          ],
                          [
                            0.5555555555555556,
                            "#d8576b"
                          ],
                          [
                            0.6666666666666666,
                            "#ed7953"
                          ],
                          [
                            0.7777777777777778,
                            "#fb9f3a"
                          ],
                          [
                            0.8888888888888888,
                            "#fdca26"
                          ],
                          [
                            1,
                            "#f0f921"
                          ]
                        ],
                        "type": "histogram2d"
                      }
                    ],
                    "histogram2dcontour": [
                      {
                        "colorbar": {
                          "outlinewidth": 0,
                          "ticks": ""
                        },
                        "colorscale": [
                          [
                            0,
                            "#0d0887"
                          ],
                          [
                            0.1111111111111111,
                            "#46039f"
                          ],
                          [
                            0.2222222222222222,
                            "#7201a8"
                          ],
                          [
                            0.3333333333333333,
                            "#9c179e"
                          ],
                          [
                            0.4444444444444444,
                            "#bd3786"
                          ],
                          [
                            0.5555555555555556,
                            "#d8576b"
                          ],
                          [
                            0.6666666666666666,
                            "#ed7953"
                          ],
                          [
                            0.7777777777777778,
                            "#fb9f3a"
                          ],
                          [
                            0.8888888888888888,
                            "#fdca26"
                          ],
                          [
                            1,
                            "#f0f921"
                          ]
                        ],
                        "type": "histogram2dcontour"
                      }
                    ],
                    "mesh3d": [
                      {
                        "colorbar": {
                          "outlinewidth": 0,
                          "ticks": ""
                        },
                        "type": "mesh3d"
                      }
                    ],
                    "parcoords": [
                      {
                        "line": {
                          "colorbar": {
                            "outlinewidth": 0,
                            "ticks": ""
                          }
                        },
                        "type": "parcoords"
                      }
                    ],
                    "pie": [
                      {
                        "automargin": true,
                        "type": "pie"
                      }
                    ],
                    "scatter": [
                      {
                        "fillpattern": {
                          "fillmode": "overlay",
                          "size": 10,
                          "solidity": 0.2
                        },
                        "type": "scatter"
                      }
                    ],
                    "scatter3d": [
                      {
                        "line": {
                          "colorbar": {
                            "outlinewidth": 0,
                            "ticks": ""
                          }
                        },
                        "marker": {
                          "colorbar": {
                            "outlinewidth": 0,
                            "ticks": ""
                          }
                        },
                        "type": "scatter3d"
                      }
                    ],
                    "scattercarpet": [
                      {
                        "marker": {
                          "colorbar": {
                            "outlinewidth": 0,
                            "ticks": ""
                          }
                        },
                        "type": "scattercarpet"
                      }
                    ],
                    "scattergeo": [
                      {
                        "marker": {
                          "colorbar": {
                            "outlinewidth": 0,
                            "ticks": ""
                          }
                        },
                        "type": "scattergeo"
                      }
                    ],
                    "scattergl": [
                      {
                        "marker": {
                          "colorbar": {
                            "outlinewidth": 0,
                            "ticks": ""
                          }
                        },
                        "type": "scattergl"
                      }
                    ],
                    "scattermap": [
                      {
                        "marker": {
                          "colorbar": {
                            "outlinewidth": 0,
                            "ticks": ""
                          }
                        },
                        "type": "scattermap"
                      }
                    ],
                    "scattermapbox": [
                      {
                        "marker": {
                          "colorbar": {
                            "outlinewidth": 0,
                            "ticks": ""
                          }
                        },
                        "type": "scattermapbox"
                      }
                    ],
                    "scatterpolar": [
                      {
                        "marker": {
                          "colorbar": {
                            "outlinewidth": 0,
                            "ticks": ""
                          }
                        },
                        "type": "scatterpolar"
                      }
                    ],
                    "scatterpolargl": [
                      {
                        "marker": {
                          "colorbar": {
                            "outlinewidth": 0,
                            "ticks": ""
                          }
                        },
                        "type": "scatterpolargl"
                      }
                    ],
                    "scatterternary": [
                      {
                        "marker": {
                          "colorbar": {
                            "outlinewidth": 0,
                            "ticks": ""
                          }
                        },
                        "type": "scatterternary"
                      }
                    ],
                    "surface": [
                      {
                        "colorbar": {
                          "outlinewidth": 0,
                          "ticks": ""
                        },
                        "colorscale": [
                          [
                            0,
                            "#0d0887"
                          ],
                          [
                            0.1111111111111111,
                            "#46039f"
                          ],
                          [
                            0.2222222222222222,
                            "#7201a8"
                          ],
                          [
                            0.3333333333333333,
                            "#9c179e"
                          ],
                          [
                            0.4444444444444444,
                            "#bd3786"
                          ],
                          [
                            0.5555555555555556,
                            "#d8576b"
                          ],
                          [
                            0.6666666666666666,
                            "#ed7953"
                          ],
                          [
                            0.7777777777777778,
                            "#fb9f3a"
                          ],
                          [
                            0.8888888888888888,
                            "#fdca26"
                          ],
                          [
                            1,
                            "#f0f921"
                          ]
                        ],
                        "type": "surface"
                      }
                    ],
                    "table": [
                      {
                        "cells": {
                          "fill": {
                            "color": "#EBF0F8"
                          },
                          "line": {
                            "color": "white"
                          }
                        },
                        "header": {
                          "fill": {
                            "color": "#C8D4E3"
                          },
                          "line": {
                            "color": "white"
                          }
                        },
                        "type": "table"
                      }
                    ]
                  },
                  "layout": {
                    "annotationdefaults": {
                      "arrowcolor": "#2a3f5f",
                      "arrowhead": 0,
                      "arrowwidth": 1
                    },
                    "autotypenumbers": "strict",
                    "coloraxis": {
                      "colorbar": {
                        "outlinewidth": 0,
                        "ticks": ""
                      }
                    },
                    "colorscale": {
                      "diverging": [
                        [
                          0,
                          "#8e0152"
                        ],
                        [
                          0.1,
                          "#c51b7d"
                        ],
                        [
                          0.2,
                          "#de77ae"
                        ],
                        [
                          0.3,
                          "#f1b6da"
                        ],
                        [
                          0.4,
                          "#fde0ef"
                        ],
                        [
                          0.5,
                          "#f7f7f7"
                        ],
                        [
                          0.6,
                          "#e6f5d0"
                        ],
                        [
                          0.7,
                          "#b8e186"
                        ],
                        [
                          0.8,
                          "#7fbc41"
                        ],
                        [
                          0.9,
                          "#4d9221"
                        ],
                        [
                          1,
                          "#276419"
                        ]
                      ],
                      "sequential": [
                        [
                          0,
                          "#0d0887"
                        ],
                        [
                          0.1111111111111111,
                          "#46039f"
                        ],
                        [
                          0.2222222222222222,
                          "#7201a8"
                        ],
                        [
                          0.3333333333333333,
                          "#9c179e"
                        ],
                        [
                          0.4444444444444444,
                          "#bd3786"
                        ],
                        [
                          0.5555555555555556,
                          "#d8576b"
                        ],
                        [
                          0.6666666666666666,
                          "#ed7953"
                        ],
                        [
                          0.7777777777777778,
                          "#fb9f3a"
                        ],
                        [
                          0.8888888888888888,
                          "#fdca26"
                        ],
                        [
                          1,
                          "#f0f921"
                        ]
                      ],
                      "sequentialminus": [
                        [
                          0,
                          "#0d0887"
                        ],
                        [
                          0.1111111111111111,
                          "#46039f"
                        ],
                        [
                          0.2222222222222222,
                          "#7201a8"
                        ],
                        [
                          0.3333333333333333,
                          "#9c179e"
                        ],
                        [
                          0.4444444444444444,
                          "#bd3786"
                        ],
                        [
                          0.5555555555555556,
                          "#d8576b"
                        ],
                        [
                          0.6666666666666666,
                          "#ed7953"
                        ],
                        [
                          0.7777777777777778,
                          "#fb9f3a"
                        ],
                        [
                          0.8888888888888888,
                          "#fdca26"
                        ],
                        [
                          1,
                          "#f0f921"
                        ]
                      ]
                    },
                    "colorway": [
                      "#636efa",
                      "#EF553B",
                      "#00cc96",
                      "#ab63fa",
                      "#FFA15A",
                      "#19d3f3",
                      "#FF6692",
                      "#B6E880",
                      "#FF97FF",
                      "#FECB52"
                    ],
                    "font": {
                      "color": "#2a3f5f"
                    },
                    "geo": {
                      "bgcolor": "white",
                      "lakecolor": "white",
                      "landcolor": "#E5ECF6",
                      "showlakes": true,
                      "showland": true,
                      "subunitcolor": "white"
                    },
                    "hoverlabel": {
                      "align": "left"
                    },
                    "hovermode": "closest",
                    "mapbox": {
                      "style": "light"
                    },
                    "paper_bgcolor": "white",
                    "plot_bgcolor": "#E5ECF6",
                    "polar": {
                      "angularaxis": {
                        "gridcolor": "white",
                        "linecolor": "white",
                        "ticks": ""
                      },
                      "bgcolor": "#E5ECF6",
                      "radialaxis": {
                        "gridcolor": "white",
                        "linecolor": "white",
                        "ticks": ""
                      }
                    },
                    "scene": {
                      "xaxis": {
                        "backgroundcolor": "#E5ECF6",
                        "gridcolor": "white",
                        "gridwidth": 2,
                        "linecolor": "white",
                        "showbackground": true,
                        "ticks": "",
                        "zerolinecolor": "white"
                      },
                      "yaxis": {
                        "backgroundcolor": "#E5ECF6",
                        "gridcolor": "white",
                        "gridwidth": 2,
                        "linecolor": "white",
                        "showbackground": true,
                        "ticks": "",
                        "zerolinecolor": "white"
                      },
                      "zaxis": {
                        "backgroundcolor": "#E5ECF6",
                        "gridcolor": "white",
                        "gridwidth": 2,
                        "linecolor": "white",
                        "showbackground": true,
                        "ticks": "",
                        "zerolinecolor": "white"
                      }
                    },
                    "shapedefaults": {
                      "line": {
                        "color": "#2a3f5f"
                      }
                    },
                    "ternary": {
                      "aaxis": {
                        "gridcolor": "white",
                        "linecolor": "white",
                        "ticks": ""
                      },
                      "baxis": {
                        "gridcolor": "white",
                        "linecolor": "white",
                        "ticks": ""
                      },
                      "bgcolor": "#E5ECF6",
                      "caxis": {
                        "gridcolor": "white",
                        "linecolor": "white",
                        "ticks": ""
                      }
                    },
                    "title": {
                      "x": 0.05
                    },
                    "xaxis": {
                      "automargin": true,
                      "gridcolor": "white",
                      "linecolor": "white",
                      "ticks": "",
                      "title": {
                        "standoff": 15
                      },
                      "zerolinecolor": "white",
                      "zerolinewidth": 2
                    },
                    "yaxis": {
                      "automargin": true,
                      "gridcolor": "white",
                      "linecolor": "white",
                      "ticks": "",
                      "title": {
                        "standoff": 15
                      },
                      "zerolinecolor": "white",
                      "zerolinewidth": 2
                    }
                  }
                },
                "title": {
                  "text": "Hierarchical Breakdown of Climate Policies (by Sector, Policy Name, and Instrument)"
                }
              }
            }
          },
          "metadata": {},
          "output_type": "display_data"
        }
      ],
      "source": [
        "counts = (\n",
        "    df\n",
        "    .groupby(['Sector','Policy_name','Instrument'])\n",
        "    .size()\n",
        "    .reset_index(name='count')\n",
        ")\n",
        "\n",
        "# Sunburst try Sector > Policy_name>Instrument\n",
        "import plotly.express as px\n",
        "fig = px.sunburst(\n",
        "    counts,\n",
        "    path=['Sector','Policy_name','Instrument'],\n",
        "    values='count',\n",
        "    title='Hierarchical Breakdown of Climate Policies (by Sector, Policy Name, and Instrument)'\n",
        ")\n",
        "fig.update_traces(hovertemplate='<b>%{label}</b><br>Count: %{value}<extra></extra>')\n",
        "fig.show()"
      ]
    },
    {
      "cell_type": "code",
      "execution_count": null,
      "metadata": {},
      "outputs": [],
      "source": []
    }
  ],
  "metadata": {
    "colab": {
      "authorship_tag": "ABX9TyOp3b6xrQhLcCYJbC+wiSBc",
      "include_colab_link": true,
      "provenance": []
    },
    "kernelspec": {
      "display_name": ".venv",
      "language": "python",
      "name": "python3"
    },
    "language_info": {
      "codemirror_mode": {
        "name": "ipython",
        "version": 3
      },
      "file_extension": ".py",
      "mimetype": "text/x-python",
      "name": "python",
      "nbconvert_exporter": "python",
      "pygments_lexer": "ipython3",
      "version": "3.13.3"
    }
  },
  "nbformat": 4,
  "nbformat_minor": 0
}
