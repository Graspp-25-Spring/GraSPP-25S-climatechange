{
  "cells": [
    {
      "cell_type": "markdown",
      "id": "ccd9c638-9ffa-4fb5-9d65-399d787d18da",
      "metadata": {
        "id": "ccd9c638-9ffa-4fb5-9d65-399d787d18da"
      },
      "source": [
        "# Manifesto data retrieval\n",
        "For US, Japan"
      ]
    },
    {
      "cell_type": "markdown",
      "id": "b1db3299-43ae-4a8b-be7e-d90dcca9f171",
      "metadata": {
        "id": "b1db3299-43ae-4a8b-be7e-d90dcca9f171"
      },
      "source": [
        "## Download Manifesto Data\n",
        "- https://manifesto-project.wzb.eu/information/documents/api"
      ]
    },
    {
      "cell_type": "code",
      "execution_count": null,
      "metadata": {
        "id": "00LTWvPaTNIi"
      },
      "outputs": [],
      "source": [
        "# For Google Colab\n",
        "# !pip install dotenv langdetect deep_translator googletrans==4.0.0-rc1"
      ]
    },
    {
      "cell_type": "code",
      "execution_count": 2,
      "id": "db90864b-5c7f-4c51-87e2-b8842efd4998",
      "metadata": {
        "id": "db90864b-5c7f-4c51-87e2-b8842efd4998"
      },
      "outputs": [],
      "source": [
        "import dotenv\n",
        "import os\n",
        "import sys\n",
        "import pandas as pd"
      ]
    },
    {
      "cell_type": "code",
      "execution_count": null,
      "id": "e49JEmIiANL8",
      "metadata": {
        "id": "e49JEmIiANL8"
      },
      "outputs": [],
      "source": [
        "sys.path.append(\"../\")\n",
        "from src.data.download_manifesto import DownloadManifesto\n",
        "\n",
        "dotenv.load_dotenv()\n",
        "dataset_key = \"MPDS2024a\"\n",
        "version = '2024-1'\n",
        "api_key = os.getenv(\"MANIFESTO_API\")\n",
        "downloader =  DownloadManifesto(dataset_key, version, api_key)"
      ]
    },
    {
      "cell_type": "code",
      "execution_count": null,
      "id": "5a577517-1918-4d42-a807-09d70d71545c",
      "metadata": {
        "id": "5a577517-1918-4d42-a807-09d70d71545c"
      },
      "outputs": [],
      "source": [
        "countries = ['United States', 'Japan']"
      ]
    },
    {
      "cell_type": "code",
      "execution_count": null,
      "id": "600f6b11-a429-4ebb-85e0-9d95e621c36e",
      "metadata": {
        "id": "600f6b11-a429-4ebb-85e0-9d95e621c36e"
      },
      "outputs": [],
      "source": [
        "from tqdm import tqdm\n",
        "\n",
        "df_all_countries = []\n",
        "for country in tqdm(countries):\n",
        "    print(country)\n",
        "    result = downloader.get_country_data(country)\n",
        "    df, metadata = downloader.get_metadata(result)\n",
        "    df_country = downloader.get_texts(df)  # Get texts\n",
        "    df_all_countries.append(df_country)"
      ]
    },
    {
      "cell_type": "code",
      "execution_count": null,
      "id": "dfa0c2a2-08a4-4b5a-918b-d9eff00cbbaa",
      "metadata": {
        "id": "dfa0c2a2-08a4-4b5a-918b-d9eff00cbbaa"
      },
      "outputs": [],
      "source": [
        "df_all = pd.concat(df_all_countries, axis='rows')\n",
        "df_all = df_all.rename(lambda x: pd.to_datetime(x, format = \"%Y%m\"), axis=0, level=1) # convert date to date time\n",
        "df_all = df_all.reset_index()\n",
        "df_all.head(2)"
      ]
    },
    {
      "cell_type": "code",
      "execution_count": null,
      "id": "880e8c63-b3fb-4b29-b377-57ccb30ab555",
      "metadata": {
        "id": "880e8c63-b3fb-4b29-b377-57ccb30ab555"
      },
      "outputs": [],
      "source": [
        "file_name = \"../data/processed/manifesto_us_japan.parquet\"\n",
        "df_all.to_parquet(file_name)"
      ]
    },
    {
      "cell_type": "markdown",
      "id": "bf2a1b43",
      "metadata": {
        "id": "bf2a1b43"
      },
      "source": [
        "## Import generated data"
      ]
    },
    {
      "cell_type": "code",
      "execution_count": 4,
      "id": "ccb47bf2",
      "metadata": {
        "id": "ccb47bf2"
      },
      "outputs": [],
      "source": [
        "df_all = pd.read_parquet(\"../data/processed/manifesto_us_japan.parquet\")"
      ]
    },
    {
      "cell_type": "markdown",
      "id": "89efbbe8-af98-48d4-9d8c-921504175117",
      "metadata": {
        "id": "89efbbe8-af98-48d4-9d8c-921504175117"
      },
      "source": [
        "## Count words across time"
      ]
    },
    {
      "cell_type": "markdown",
      "id": "b9afea11-2a38-409e-9644-97e80d742c45",
      "metadata": {
        "id": "b9afea11-2a38-409e-9644-97e80d742c45"
      },
      "source": [
        "### Count by country (only for English speaking countries)"
      ]
    },
    {
      "cell_type": "code",
      "execution_count": null,
      "id": "079db915-6d63-4471-ad07-99e38004c034",
      "metadata": {
        "id": "079db915-6d63-4471-ad07-99e38004c034",
        "outputId": "6661ef53-6a27-4849-9385-6c4ba47e040e"
      },
      "outputs": [
        {
          "data": {
            "text/plain": [
              "{'ghg': 0, 'greenhouse': 23, 'net-zero': 0, 'carbon': 42}"
            ]
          },
          "execution_count": 6,
          "metadata": {},
          "output_type": "execute_result"
        }
      ],
      "source": [
        "from sklearn.feature_extraction.text import CountVectorizer\n",
        "\n",
        "vocab_list = ['ghg', 'greenhouse', 'net-zero', 'carbon']\n",
        "vectorizer = CountVectorizer(\n",
        "    stop_words = 'english',     # Remove stop words. Can be a list of stop words or a string from {'english', 'spanish'}.\n",
        "    lowercase = True,           # Convert text to lowercase.\n",
        "    ngram_range = (1,1),\n",
        "    vocabulary = vocab_list\n",
        "\n",
        ")\n",
        "counts = vectorizer.fit_transform(df_all['text']).toarray().sum(axis=0)\n",
        "word_freq = dict(zip(vectorizer.get_feature_names_out(), counts))\n",
        "word_freq"
      ]
    },
    {
      "cell_type": "markdown",
      "id": "de453867-1c3e-4247-90cc-fd7474dd789a",
      "metadata": {
        "id": "de453867-1c3e-4247-90cc-fd7474dd789a"
      },
      "source": [
        "### Count by year and date"
      ]
    },
    {
      "cell_type": "code",
      "execution_count": null,
      "id": "0bd49c97-96db-4adc-b040-afa14872dc99",
      "metadata": {
        "id": "0bd49c97-96db-4adc-b040-afa14872dc99",
        "outputId": "a57e7c9f-0b04-48a5-bae3-149cf4dc2d03"
      },
      "outputs": [
        {
          "data": {
            "text/html": [
              "<div>\n",
              "<style scoped>\n",
              "    .dataframe tbody tr th:only-of-type {\n",
              "        vertical-align: middle;\n",
              "    }\n",
              "\n",
              "    .dataframe tbody tr th {\n",
              "        vertical-align: top;\n",
              "    }\n",
              "\n",
              "    .dataframe thead th {\n",
              "        text-align: right;\n",
              "    }\n",
              "</style>\n",
              "<table border=\"1\" class=\"dataframe\">\n",
              "  <thead>\n",
              "    <tr style=\"text-align: right;\">\n",
              "      <th></th>\n",
              "      <th>index</th>\n",
              "      <th>countryname</th>\n",
              "      <th>date</th>\n",
              "      <th>party</th>\n",
              "      <th>partyname</th>\n",
              "      <th>keys</th>\n",
              "      <th>manifesto_id</th>\n",
              "      <th>text</th>\n",
              "      <th>year</th>\n",
              "    </tr>\n",
              "  </thead>\n",
              "  <tbody>\n",
              "    <tr>\n",
              "      <th>0</th>\n",
              "      <td>0</td>\n",
              "      <td>United States</td>\n",
              "      <td>1960-11-01</td>\n",
              "      <td>61320</td>\n",
              "      <td>Democratic Party</td>\n",
              "      <td>61320_196011</td>\n",
              "      <td>61320_196011</td>\n",
              "      <td>In 1796, in America's first contested national...</td>\n",
              "      <td>1960</td>\n",
              "    </tr>\n",
              "    <tr>\n",
              "      <th>1</th>\n",
              "      <td>1</td>\n",
              "      <td>United States</td>\n",
              "      <td>1960-11-01</td>\n",
              "      <td>61620</td>\n",
              "      <td>Republican Party</td>\n",
              "      <td>61620_196011</td>\n",
              "      <td>61620_196011</td>\n",
              "      <td>PREAMBLE The United States is living in an age...</td>\n",
              "      <td>1960</td>\n",
              "    </tr>\n",
              "  </tbody>\n",
              "</table>\n",
              "</div>"
            ],
            "text/plain": [
              "   index    countryname       date  party         partyname          keys  \\\n",
              "0      0  United States 1960-11-01  61320  Democratic Party  61320_196011   \n",
              "1      1  United States 1960-11-01  61620  Republican Party  61620_196011   \n",
              "\n",
              "   manifesto_id                                               text  year  \n",
              "0  61320_196011  In 1796, in America's first contested national...  1960  \n",
              "1  61620_196011  PREAMBLE The United States is living in an age...  1960  "
            ]
          },
          "execution_count": 7,
          "metadata": {},
          "output_type": "execute_result"
        }
      ],
      "source": [
        "# add year column\n",
        "df_all = df_all.reset_index().assign(year = lambda column: column['date'].dt.year)\n",
        "df_all.head(2)"
      ]
    },
    {
      "cell_type": "code",
      "execution_count": null,
      "id": "8d307580-8bb0-4485-a7f9-ab3d6492a215",
      "metadata": {
        "id": "8d307580-8bb0-4485-a7f9-ab3d6492a215",
        "outputId": "99daa854-2973-4b89-b48b-46e8a23a9ae7"
      },
      "outputs": [
        {
          "data": {
            "text/html": [
              "<div>\n",
              "<style scoped>\n",
              "    .dataframe tbody tr th:only-of-type {\n",
              "        vertical-align: middle;\n",
              "    }\n",
              "\n",
              "    .dataframe tbody tr th {\n",
              "        vertical-align: top;\n",
              "    }\n",
              "\n",
              "    .dataframe thead th {\n",
              "        text-align: right;\n",
              "    }\n",
              "</style>\n",
              "<table border=\"1\" class=\"dataframe\">\n",
              "  <thead>\n",
              "    <tr style=\"text-align: right;\">\n",
              "      <th></th>\n",
              "      <th></th>\n",
              "      <th>ghg</th>\n",
              "      <th>greenhouse</th>\n",
              "      <th>net-zero</th>\n",
              "      <th>carbon</th>\n",
              "    </tr>\n",
              "  </thead>\n",
              "  <tbody>\n",
              "    <tr>\n",
              "      <th rowspan=\"2\" valign=\"top\">Japan</th>\n",
              "      <th>2014</th>\n",
              "      <td>0</td>\n",
              "      <td>0</td>\n",
              "      <td>0</td>\n",
              "      <td>0</td>\n",
              "    </tr>\n",
              "    <tr>\n",
              "      <th>2017</th>\n",
              "      <td>0</td>\n",
              "      <td>0</td>\n",
              "      <td>0</td>\n",
              "      <td>0</td>\n",
              "    </tr>\n",
              "    <tr>\n",
              "      <th rowspan=\"3\" valign=\"top\">United States</th>\n",
              "      <th>1960</th>\n",
              "      <td>0</td>\n",
              "      <td>0</td>\n",
              "      <td>0</td>\n",
              "      <td>0</td>\n",
              "    </tr>\n",
              "    <tr>\n",
              "      <th>1964</th>\n",
              "      <td>0</td>\n",
              "      <td>0</td>\n",
              "      <td>0</td>\n",
              "      <td>0</td>\n",
              "    </tr>\n",
              "    <tr>\n",
              "      <th>1968</th>\n",
              "      <td>0</td>\n",
              "      <td>0</td>\n",
              "      <td>0</td>\n",
              "      <td>0</td>\n",
              "    </tr>\n",
              "  </tbody>\n",
              "</table>\n",
              "</div>"
            ],
            "text/plain": [
              "                    ghg  greenhouse  net-zero  carbon\n",
              "Japan         2014    0           0         0       0\n",
              "              2017    0           0         0       0\n",
              "United States 1960    0           0         0       0\n",
              "              1964    0           0         0       0\n",
              "              1968    0           0         0       0"
            ]
          },
          "execution_count": 9,
          "metadata": {},
          "output_type": "execute_result"
        }
      ],
      "source": [
        "word_freq_by_country = {}\n",
        "for country_name, country_df in df_all.groupby(['countryname', 'year']):\n",
        "    vectorizer = CountVectorizer(\n",
        "        stop_words='english',\n",
        "        lowercase=True,\n",
        "        ngram_range=(1, 1),\n",
        "        vocabulary=vocab_list\n",
        "    )\n",
        "    counts = vectorizer.fit_transform(country_df['text']).toarray().sum(axis=0)\n",
        "    word_freq_by_country[country_name] = dict(zip(vectorizer.get_feature_names_out(), counts))\n",
        "df_timeseries = pd.DataFrame(word_freq_by_country).transpose()\n",
        "df_timeseries.head()"
      ]
    },
    {
      "cell_type": "code",
      "execution_count": null,
      "id": "175676a0-feed-42a4-9734-3234d5d4c791",
      "metadata": {
        "id": "175676a0-feed-42a4-9734-3234d5d4c791",
        "outputId": "64809362-4e08-4f09-cfed-261041e983d3"
      },
      "outputs": [
        {
          "data": {
            "text/html": [
              "<div>\n",
              "<style scoped>\n",
              "    .dataframe tbody tr th:only-of-type {\n",
              "        vertical-align: middle;\n",
              "    }\n",
              "\n",
              "    .dataframe tbody tr th {\n",
              "        vertical-align: top;\n",
              "    }\n",
              "\n",
              "    .dataframe thead th {\n",
              "        text-align: right;\n",
              "    }\n",
              "</style>\n",
              "<table border=\"1\" class=\"dataframe\">\n",
              "  <thead>\n",
              "    <tr style=\"text-align: right;\">\n",
              "      <th></th>\n",
              "      <th>level_0</th>\n",
              "      <th>level_1</th>\n",
              "      <th>level_2</th>\n",
              "      <th>count</th>\n",
              "    </tr>\n",
              "  </thead>\n",
              "  <tbody>\n",
              "    <tr>\n",
              "      <th>0</th>\n",
              "      <td>Japan</td>\n",
              "      <td>2014</td>\n",
              "      <td>ghg</td>\n",
              "      <td>0</td>\n",
              "    </tr>\n",
              "    <tr>\n",
              "      <th>1</th>\n",
              "      <td>Japan</td>\n",
              "      <td>2014</td>\n",
              "      <td>greenhouse</td>\n",
              "      <td>0</td>\n",
              "    </tr>\n",
              "    <tr>\n",
              "      <th>2</th>\n",
              "      <td>Japan</td>\n",
              "      <td>2014</td>\n",
              "      <td>net-zero</td>\n",
              "      <td>0</td>\n",
              "    </tr>\n",
              "  </tbody>\n",
              "</table>\n",
              "</div>"
            ],
            "text/plain": [
              "  level_0  level_1     level_2  count\n",
              "0   Japan     2014         ghg      0\n",
              "1   Japan     2014  greenhouse      0\n",
              "2   Japan     2014    net-zero      0"
            ]
          },
          "execution_count": 10,
          "metadata": {},
          "output_type": "execute_result"
        }
      ],
      "source": [
        "df_long = df_timeseries.stack().to_frame('count').reset_index()\n",
        "df_long.head(3)"
      ]
    },
    {
      "cell_type": "code",
      "execution_count": null,
      "id": "029c27eb-ba25-4ded-9952-a1895004f932",
      "metadata": {
        "id": "029c27eb-ba25-4ded-9952-a1895004f932",
        "outputId": "2b9ecef7-66f1-4029-cca0-77b3245faea9"
      },
      "outputs": [
        {
          "data": {
            "text/html": [
              "<div>\n",
              "<style scoped>\n",
              "    .dataframe tbody tr th:only-of-type {\n",
              "        vertical-align: middle;\n",
              "    }\n",
              "\n",
              "    .dataframe tbody tr th {\n",
              "        vertical-align: top;\n",
              "    }\n",
              "\n",
              "    .dataframe thead th {\n",
              "        text-align: right;\n",
              "    }\n",
              "</style>\n",
              "<table border=\"1\" class=\"dataframe\">\n",
              "  <thead>\n",
              "    <tr style=\"text-align: right;\">\n",
              "      <th></th>\n",
              "      <th>country</th>\n",
              "      <th>year</th>\n",
              "      <th>vocab</th>\n",
              "      <th>count</th>\n",
              "    </tr>\n",
              "  </thead>\n",
              "  <tbody>\n",
              "    <tr>\n",
              "      <th>0</th>\n",
              "      <td>Japan</td>\n",
              "      <td>2014</td>\n",
              "      <td>ghg</td>\n",
              "      <td>0</td>\n",
              "    </tr>\n",
              "    <tr>\n",
              "      <th>1</th>\n",
              "      <td>Japan</td>\n",
              "      <td>2014</td>\n",
              "      <td>greenhouse</td>\n",
              "      <td>0</td>\n",
              "    </tr>\n",
              "  </tbody>\n",
              "</table>\n",
              "</div>"
            ],
            "text/plain": [
              "  country  year       vocab  count\n",
              "0   Japan  2014         ghg      0\n",
              "1   Japan  2014  greenhouse      0"
            ]
          },
          "execution_count": 11,
          "metadata": {},
          "output_type": "execute_result"
        }
      ],
      "source": [
        "df_long = df_long.rename({\"level_0\": 'country', 'level_1':'year', 'level_2': 'vocab'}, axis='columns')\n",
        "df_long.head(2)"
      ]
    },
    {
      "cell_type": "markdown",
      "id": "b7fde051-b880-4962-bcca-c135b49d590c",
      "metadata": {
        "id": "b7fde051-b880-4962-bcca-c135b49d590c"
      },
      "source": [
        "#### Export"
      ]
    },
    {
      "cell_type": "code",
      "execution_count": null,
      "id": "f140e7f9-2bed-4948-baf2-9bc623db814f",
      "metadata": {
        "id": "f140e7f9-2bed-4948-baf2-9bc623db814f"
      },
      "outputs": [],
      "source": [
        "df_long.to_csv(\"../data/processed/manifesto_us_japan_word_freq.csv\", index=False)"
      ]
    },
    {
      "cell_type": "markdown",
      "id": "d63574c5",
      "metadata": {
        "id": "d63574c5"
      },
      "source": [
        "## Count with LLM with translation of Japanese\n",
        "It needs CUDA to run, running this with CPU might be slow"
      ]
    },
    {
      "cell_type": "code",
      "execution_count": null,
      "id": "dnwaF_TEW451",
      "metadata": {
        "colab": {
          "base_uri": "https://localhost:8080/",
          "height": 771,
          "referenced_widgets": [
            "c17e8b46450548beb14055322423871a",
            "8f63da5561324d4fbe6ef6eaafddb97d",
            "99267230ce4f4832a7581a283a6d2027",
            "ce4aab5e48e6472dbaede3d39bdcbce6",
            "26f32806e6f444e8b6cc279f2075987f",
            "f74d4dd16c8d4002ac92481b6fd80a1a",
            "086f28d258424e568e189d8be60b5096",
            "5147431cd9eb4e8e96d1d6d56b587d9a",
            "f8d5ee89bf2f44ce8da708935a7ab4a3",
            "163d87ee726d49ce8d401896eff51519",
            "b6e97aa4894e4d1aa3798bcf7f79ba40",
            "156587c1cb29461da10dee6b64399659",
            "9befcb1545ab4485a2f6fdbb6a94708f",
            "50421cbd46bd4cf9a5c3e2eae6a5c8bd",
            "db05c2252bcd4bee9a5f8dd2d7810f2b",
            "4dc4da369b7e4dc2a0c2a5c67b3ef4ef",
            "151f6dc98e0e4a4ab11f0171d189b30e",
            "47d0fbc4661042f397654cb9bb0f0683",
            "54df182b9d15458e9cc2ab0a5fcf8f7a",
            "8e6d6fe5cff64f0c8ff897c8a8110f09",
            "6878be53b473475f83b79dde62718b03",
            "4fd7c329f7de412fa924d14a98e2bfce",
            "acebe22066a546b8b565fdbec345d9b6",
            "81ac435682844340b806f060fb54a223",
            "67136a59caee4ba281fe55dec6e50730",
            "b3c1163ba94044bf88009191cdb94ba9",
            "49871786c35c44f2b681f8a92f18b7b6",
            "4223cd1c42f749b3af994a24e1f60ad2",
            "72a77fc45aef4bceb34b23abc00f836d",
            "45336bd617534ea680d570d012423671",
            "e881c2e88d4441a4a4519d5c4ca1bdd0",
            "64867b6ff67041f1843c8cc1e883c6fc",
            "126f25b6d4214180b40531c8e820de85",
            "597c8be53c31410aa2ebd8a0a8d55f7d",
            "27f75c0886a84868aca29ed10b49089c",
            "bc304705cbb845b79b943bd464f43fac",
            "39d421a72a984a979bcdb425819e4034",
            "2e860eb0c00044c294bd8304004cac2d",
            "68490b2952b542649abf8b5cb2a561f6",
            "2e52b1a188e34ba5a47cc3376d1d7a3d",
            "ee30aa40bfed47e18915df9640c690ea",
            "9f6e3a3515a542f09825c5207a3066c0",
            "f6e47f6cd04843f9ae31f82a31592155",
            "e726b2efdc424f6ba41767c5896741dc",
            "b135b3bc5f434d40919d5410c5846989",
            "17a7e6f247c94ed3bbad55d28a53a447",
            "d845448121454c0fba1967e901ba27c6",
            "a8d2c0ebe47144148448c127a1206156",
            "b0e46db133634a66955cbbed6b1d37ce",
            "df8a84f4b8364faca2caa9d36dafc71a",
            "007351e916fc47c08e0fb1741121852c",
            "655c816fce2642faba04f7ddba0a6f42",
            "3aac76772b1249019b9e745c560c7f15",
            "213799d54df14d5cb06ec424b7b47fa5",
            "d116333762eb4634bb0657282b00ee0a",
            "13352ed12c714305a80db578be18a1e7",
            "383eb3dee1164828ada2659f180adde5",
            "1bd607c43d264c248028551a8f17ffdc",
            "13dd2418c0604f8f971703d2a065861b",
            "3b24bec909ad41838b01b0b54a247393",
            "954ba5bfea314865841243be6dc7d813",
            "1b98e08935a849a1a6e79bf523fc8691",
            "7786dd79ddad41b881320496b9b21508",
            "f7def86e439b426c953c7fd569b83163",
            "30dc0b20f1a94a0cae7a30103a6ad88f",
            "7b2f408dba7e465584e7f48bdff5ab4f",
            "f3b227707a1a4c4da917c5dc4e684c50",
            "77a44a40b0334956bbddb42fa190bb68",
            "8d0160ec213d42cdb48abbf260825d40",
            "69f68f355e2b4e1a9a2775a203e22c86",
            "e05892f71b294debbf8883558845362e",
            "1f5dea3bf09447eaa3e6f5e62f8adfc5",
            "facc6849b0924a15ab73de220d2b6da9",
            "8660a00d81c944bf986a940065ef945b",
            "8938d6afcf8c4c98998fc60a43b58ee8",
            "7cdc58d2d60749af93f031eab0f80ef2",
            "d6627b424a804d65bd0d7c8480b3a9d6"
          ]
        },
        "id": "dnwaF_TEW451",
        "outputId": "5e8806fa-ccc8-4e93-94d0-84ffd2181872"
      },
      "outputs": [],
      "source": [
        "import pandas as pd\n",
        "import re\n",
        "from langdetect import detect\n",
        "from deep_translator import GoogleTranslator\n",
        "from transformers import pipeline\n",
        "from datasets import Dataset\n",
        "from googletrans import Translator\n",
        "from tqdm import tqdm\n",
        "\n",
        "\n",
        "# Model loading for GPU usage\n",
        "classifier = pipeline(\"zero-shot-classification\", model=\"facebook/bart-large-mnli\", device=0)\n",
        "labels = [\"climate-related\"]\n",
        "\n",
        "# Translation function using Google Translator by sentence\n",
        "\n",
        "def translate_japanese_to_english(text):\n",
        "    translator = Translator()\n",
        "    sentences = re.split(r'(?<=[。！？])', text)\n",
        "    translated_sentences = []\n",
        "\n",
        "    for sentence in sentences:\n",
        "       sentence = sentence.strip()\n",
        "       if sentence:\n",
        "          try:\n",
        "              translated = translator.translate(sentence, src='ja', dest='en')\n",
        "              if translated and hasattr(translated, 'text') and translated.text:\n",
        "                    translated_sentences.append(translated.text)\n",
        "              else:\n",
        "                  print(f\"翻訳失敗: {sentence}\")\n",
        "          except Exception as e:\n",
        "              print(f\"翻訳エラー: {e}（文: {sentence}）\")\n",
        "    return ' '.join(translated_sentences)\n",
        "\n",
        "# Multilingual classification function for batch processing\n",
        "def multilang_classify_climate_sentences_batch(batch):\n",
        "    texts = batch[\"text\"]\n",
        "    eng_texts = []\n",
        "    valid_indices = []\n",
        "\n",
        "    # Translate each text\n",
        "    for i, text in enumerate(texts):\n",
        "        lang = detect(text)\n",
        "        if lang == 'ja':\n",
        "            translated = translate_japanese_to_english(text)\n",
        "            if translated.strip():\n",
        "                eng_texts.append(translated)\n",
        "                valid_indices.append(i)\n",
        "            else:\n",
        "                eng_texts.append(\"\")  # Add empty string if translation fails\n",
        "        else:\n",
        "            if text.strip():\n",
        "                eng_texts.append(text)\n",
        "                valid_indices.append(i)\n",
        "            else:\n",
        "                eng_texts.append(\"\")  # Add empty string if translation fails\n",
        "\n",
        "    # Classify the translated texts\n",
        "    scores = [0.0] * len(texts)\n",
        "    if any(t.strip() for t in eng_texts):\n",
        "        non_empty_texts = [t if t.strip() else \"empty\" for t in eng_texts]\n",
        "        results = classifier(non_empty_texts, candidate_labels=labels)\n",
        "        for i, r in enumerate(results):\n",
        "            scores[i] = r[\"scores\"][0]\n",
        "\n",
        "    return {\"eng_text\": eng_texts, \"score\": scores}\n",
        "\n",
        "\n",
        "# df_all = pd.DataFrame({'text': [...text in Japanese or English...]})\n",
        "\n",
        "# DataFrame -> Hugging Face Dataset\n",
        "dataset = Dataset.from_pandas(df_all)\n",
        "\n",
        "# Batch processing for translation and multilingual classification\n",
        "dataset = dataset.map(multilang_classify_climate_sentences_batch, batched=True, batch_size=16)\n",
        "\n",
        "# Dataset -> DataFrame (reverting back to pandas DataFrame)\n",
        "df_all_result = dataset.to_pandas()\n",
        "\n",
        "# Add columns to original DataFrame\n",
        "df_all[\"eng_text\"] = df_all_result[\"eng_text\"]\n",
        "df_all[\"score\"] = df_all_result[\"score\"]\n",
        "\n",
        "df_all.head()\n"
      ]
    },
    {
      "cell_type": "code",
      "execution_count": 6,
      "id": "42aa60f9",
      "metadata": {
        "id": "42aa60f9"
      },
      "outputs": [],
      "source": [
        "df_all.to_csv(\"../data/processed/manifesto_us_japan_related_score.csv\")"
      ]
    }
  ],
  "metadata": {
    "accelerator": "GPU",
    "colab": {
      "gpuType": "L4",
      "machine_shape": "hm",
      "provenance": []
    },
    "kernelspec": {
      "display_name": ".venv",
      "language": "python",
      "name": "python3"
    },
    "language_info": {
      "codemirror_mode": {
        "name": "ipython",
        "version": 3
      },
      "file_extension": ".py",
      "mimetype": "text/x-python",
      "name": "python",
      "nbconvert_exporter": "python",
      "pygments_lexer": "ipython3",
      "version": "3.12.11"
    }
  },
  "nbformat": 4,
  "nbformat_minor": 5
}
