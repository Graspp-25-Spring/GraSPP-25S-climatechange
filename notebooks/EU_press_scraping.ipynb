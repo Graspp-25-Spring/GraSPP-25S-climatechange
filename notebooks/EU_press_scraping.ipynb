{
 "cells": [
  {
   "cell_type": "markdown",
   "id": "ccd9c638-9ffa-4fb5-9d65-399d787d18da",
   "metadata": {},
   "source": [
    "# EU press Scraping\n",
    "**WIP file: There is a known issue of failure of scraping, fix is needed**\n",
    "\n",
    "Source: [notebooks/module_4/week_9/scraping.ipynb](https://github.com/Data-Science-Public-Policy/graspp_2025_spring/blob/main/notebooks/module_4/week_9/scraping.ipynb)"
   ]
  },
  {
   "cell_type": "code",
   "execution_count": 1,
   "id": "8c05b1cc-2128-4dd1-8b9b-4473678cd8ba",
   "metadata": {},
   "outputs": [],
   "source": [
    "import re\n",
    "from selenium import webdriver\n",
    "from selenium.webdriver.common.by import By\n",
    "import time"
   ]
  },
  {
   "cell_type": "markdown",
   "id": "942dac46-ec54-4ddb-8f0d-2d63c05ee5e9",
   "metadata": {},
   "source": [
    "## 1. Selenium\n",
    "## 1.1 Scrape links"
   ]
  },
  {
   "cell_type": "code",
   "execution_count": 2,
   "id": "061e2b7d-b3fe-43cf-a1f6-07f79ef31b1e",
   "metadata": {},
   "outputs": [],
   "source": [
    "url = \"https://ec.europa.eu/commission/presscorner/home/en?dotyp=&keywords=GHG&commissioner=\"\n",
    "driver = webdriver.Chrome()\n",
    "driver.get(url)"
   ]
  },
  {
   "cell_type": "code",
   "execution_count": 3,
   "id": "a1e32cda-3f6c-43d9-a95c-713cff844ef4",
   "metadata": {},
   "outputs": [
    {
     "data": {
      "text/plain": [
       "['https://ec.europa.eu/commission/presscorner/detail/en/mex_25_1354',\n",
       " 'https://ec.europa.eu/commission/presscorner/detail/en/ip_25_1337']"
      ]
     },
     "execution_count": 3,
     "metadata": {},
     "output_type": "execute_result"
    }
   ],
   "source": [
    "page_content = driver.find_element(By.ID, 'news-block')\n",
    "# Now, find all <a> tags *within* that specific 'page_content' element\n",
    "all_links= page_content.find_elements(By.TAG_NAME, 'a')\n",
    "\n",
    "links = []\n",
    "for link in all_links:\n",
    "    href = link.get_attribute('href')\n",
    "    text = link.text\n",
    "    #print(f\"Link Text: '{text}', URL: '{href}'\")\n",
    "    links.append(href)\n",
    "links = [link for link in links if link!=None and len(link)>0]\n",
    "links[:2]"
   ]
  },
  {
   "cell_type": "markdown",
   "id": "795bd8e3-2671-4612-9dbd-f433e3acbec6",
   "metadata": {},
   "source": [
    "## 1.2 Scrape all links"
   ]
  },
  {
   "cell_type": "code",
   "execution_count": 6,
   "id": "df9b4df3-db26-4569-8082-88de947f3017",
   "metadata": {},
   "outputs": [],
   "source": [
    "#driver = webdriver.Chrome()\n",
    "def scrape_page(url):\n",
    "    driver.get(url)\n",
    "    time.sleep(4)\n",
    "    #page_title\n",
    "    page_title = driver.find_element(By.TAG_NAME, 'h1').text\n",
    "    #page_content\n",
    "    page_content = driver.find_element(By.CLASS_NAME, 'ecl-col-l-9').text\n",
    "    #date\n",
    "    els = driver.find_elements(By.CLASS_NAME, 'ecl-page-header__meta-item')\n",
    "    els = [el.text for el in els]\n",
    "    date = next((item for item in els if re.search(r'\\d{4}', item)), None)\n",
    "    print(date)\n",
    "    final_text = f\"{page_title}\\n{page_content}\"\n",
    "    return date.replace(\",\",\"\").replace(\" \", \"_\"), final_text"
   ]
  },
  {
   "cell_type": "markdown",
   "id": "c12034ed-6890-470e-9a7f-8a5a1ffecbe9",
   "metadata": {},
   "source": [
    "### 1.2.1 Example"
   ]
  },
  {
   "cell_type": "code",
   "execution_count": 7,
   "id": "81926cd3-483b-4ed5-bc64-dac797ad5742",
   "metadata": {},
   "outputs": [
    {
     "name": "stdout",
     "output_type": "stream",
     "text": [
      "May 28, 2025\n"
     ]
    },
    {
     "data": {
      "text/plain": [
       "'\\nShare this page:\\nX\\nFacebook\\nLinkedin\\nE-mail'"
      ]
     },
     "execution_count": 7,
     "metadata": {},
     "output_type": "execute_result"
    }
   ],
   "source": [
    "date, final_text = scrape_page(links[1])\n",
    "final_text[:400]"
   ]
  },
  {
   "cell_type": "markdown",
   "id": "1c9bf38f-ca9c-4b5d-a728-59d0bb557b9f",
   "metadata": {},
   "source": [
    "### 1.2.2 Scrape all"
   ]
  },
  {
   "cell_type": "code",
   "execution_count": 9,
   "id": "70664271-a0e5-4d1f-96f6-2b5add8ecbda",
   "metadata": {},
   "outputs": [
    {
     "name": "stderr",
     "output_type": "stream",
     "text": [
      "  5%|▍         | 1/21 [00:15<05:02, 15.12s/it]"
     ]
    },
    {
     "name": "stdout",
     "output_type": "stream",
     "text": [
      "None\n",
      "LINK DIDNT WORK https://ec.europa.eu/commission/presscorner/detail/en/mex_25_1354\n"
     ]
    },
    {
     "name": "stderr",
     "output_type": "stream",
     "text": [
      " 10%|▉         | 2/21 [00:37<06:05, 19.26s/it]"
     ]
    },
    {
     "name": "stdout",
     "output_type": "stream",
     "text": [
      "May 28, 2025\n"
     ]
    },
    {
     "name": "stderr",
     "output_type": "stream",
     "text": [
      " 14%|█▍        | 3/21 [00:43<03:57, 13.19s/it]"
     ]
    },
    {
     "name": "stdout",
     "output_type": "stream",
     "text": [
      "None\n",
      "LINK DIDNT WORK https://ec.europa.eu/commission/presscorner/detail/en/qanda_25_1338\n"
     ]
    },
    {
     "name": "stderr",
     "output_type": "stream",
     "text": [
      " 19%|█▉        | 4/21 [00:48<02:51, 10.11s/it]"
     ]
    },
    {
     "name": "stdout",
     "output_type": "stream",
     "text": [
      "None\n",
      "LINK DIDNT WORK https://ec.europa.eu/commission/presscorner/detail/en/mex_25_1287\n"
     ]
    },
    {
     "name": "stderr",
     "output_type": "stream",
     "text": [
      " 24%|██▍       | 5/21 [00:55<02:22,  8.89s/it]"
     ]
    },
    {
     "name": "stdout",
     "output_type": "stream",
     "text": [
      "None\n",
      "LINK DIDNT WORK https://ec.europa.eu/commission/presscorner/detail/en/ip_25_1250\n"
     ]
    },
    {
     "name": "stderr",
     "output_type": "stream",
     "text": [
      " 29%|██▊       | 6/21 [01:10<02:45, 11.02s/it]"
     ]
    },
    {
     "name": "stdout",
     "output_type": "stream",
     "text": [
      "Apr 11, 2025\n"
     ]
    },
    {
     "name": "stderr",
     "output_type": "stream",
     "text": [
      " 33%|███▎      | 7/21 [01:17<02:15,  9.71s/it]"
     ]
    },
    {
     "name": "stdout",
     "output_type": "stream",
     "text": [
      "None\n",
      "LINK DIDNT WORK https://ec.europa.eu/commission/presscorner/detail/en/qanda_25_551\n"
     ]
    },
    {
     "name": "stderr",
     "output_type": "stream",
     "text": [
      " 38%|███▊      | 8/21 [01:33<02:34, 11.85s/it]"
     ]
    },
    {
     "name": "stdout",
     "output_type": "stream",
     "text": [
      "None\n",
      "LINK DIDNT WORK https://ec.europa.eu/commission/presscorner/detail/en/mex_25_241\n"
     ]
    },
    {
     "name": "stderr",
     "output_type": "stream",
     "text": [
      " 43%|████▎     | 9/21 [01:46<02:26, 12.22s/it]"
     ]
    },
    {
     "name": "stdout",
     "output_type": "stream",
     "text": [
      "None\n",
      "LINK DIDNT WORK https://ec.europa.eu/commission/presscorner/detail/en/ip_24_6426\n"
     ]
    },
    {
     "name": "stderr",
     "output_type": "stream",
     "text": [
      " 48%|████▊     | 10/21 [01:56<02:05, 11.44s/it]"
     ]
    },
    {
     "name": "stdout",
     "output_type": "stream",
     "text": [
      "None\n",
      "LINK DIDNT WORK https://ec.europa.eu/commission/presscorner/detail/en/ip_24_6523\n"
     ]
    },
    {
     "name": "stderr",
     "output_type": "stream",
     "text": [
      " 52%|█████▏    | 11/21 [02:20<02:31, 15.19s/it]"
     ]
    },
    {
     "name": "stdout",
     "output_type": "stream",
     "text": [
      "Dec 17, 2024\n"
     ]
    },
    {
     "name": "stderr",
     "output_type": "stream",
     "text": [
      "100%|██████████| 21/21 [02:21<00:00,  6.75s/it]"
     ]
    },
    {
     "name": "stdout",
     "output_type": "stream",
     "text": [
      "LINK DIDNT WORK https://ec.europa.eu/commission/presscorner/detail/en/ip_24_6464\n",
      "LINK DIDNT WORK https://ec.europa.eu/commission/presscorner/detail/en/ip_24_6346\n",
      "LINK DIDNT WORK https://ec.europa.eu/commission/presscorner/detail/en/ip_24_5967\n",
      "LINK DIDNT WORK https://ec.europa.eu/commission/presscorner/detail/en/ip_24_5605\n",
      "LINK DIDNT WORK https://ec.europa.eu/commission/presscorner/detail/en/ip_24_5467\n",
      "LINK DIDNT WORK https://ec.europa.eu/commission/presscorner/detail/en/mex_24_5470\n",
      "LINK DIDNT WORK https://ec.europa.eu/commission/presscorner/detail/en/qanda_24_5424\n",
      "LINK DIDNT WORK https://ec.europa.eu/commission/presscorner/detail/en/qanda_24_5382\n",
      "LINK DIDNT WORK https://ec.europa.eu/commission/presscorner/detail/en/qanda_24_2527\n",
      "LINK DIDNT WORK https://ec.europa.eu/commission/presscorner/detail/en/ip_24_2322\n"
     ]
    },
    {
     "name": "stderr",
     "output_type": "stream",
     "text": [
      "\n"
     ]
    }
   ],
   "source": [
    "scrape_dictionary = {}\n",
    "from tqdm import tqdm\n",
    "for link in tqdm(links):\n",
    "    try:\n",
    "        date, final_text = scrape_page(link)\n",
    "        scrape_dictionary[date] = final_text\n",
    "    except:\n",
    "        print(\"LINK DIDNT WORK\", link)\n"
   ]
  },
  {
   "cell_type": "markdown",
   "id": "8a0950a0-1859-468f-93ab-ade5c130fbce",
   "metadata": {},
   "source": [
    "### 1.2.3 Convert results to data frame"
   ]
  },
  {
   "cell_type": "code",
   "execution_count": 82,
   "id": "7c439a0f-7ce7-4395-92be-a376e058d68c",
   "metadata": {
    "scrolled": true
   },
   "outputs": [
    {
     "data": {
      "text/html": [
       "<div>\n",
       "<style scoped>\n",
       "    .dataframe tbody tr th:only-of-type {\n",
       "        vertical-align: middle;\n",
       "    }\n",
       "\n",
       "    .dataframe tbody tr th {\n",
       "        vertical-align: top;\n",
       "    }\n",
       "\n",
       "    .dataframe thead th {\n",
       "        text-align: right;\n",
       "    }\n",
       "</style>\n",
       "<table border=\"1\" class=\"dataframe\">\n",
       "  <thead>\n",
       "    <tr style=\"text-align: right;\">\n",
       "      <th></th>\n",
       "      <th>text</th>\n",
       "    </tr>\n",
       "    <tr>\n",
       "      <th>date</th>\n",
       "      <th></th>\n",
       "    </tr>\n",
       "  </thead>\n",
       "  <tbody>\n",
       "    <tr>\n",
       "      <th>Apr_12_2024</th>\n",
       "      <td>Questions and Answers on the revised Energy Pe...</td>\n",
       "    </tr>\n",
       "    <tr>\n",
       "      <th>Apr_5_2024</th>\n",
       "      <td>Commission approves €350 million German State ...</td>\n",
       "    </tr>\n",
       "  </tbody>\n",
       "</table>\n",
       "</div>"
      ],
      "text/plain": [
       "                                                          text\n",
       "date                                                          \n",
       "Apr_12_2024  Questions and Answers on the revised Energy Pe...\n",
       "Apr_5_2024   Commission approves €350 million German State ..."
      ]
     },
     "execution_count": 82,
     "metadata": {},
     "output_type": "execute_result"
    }
   ],
   "source": [
    "import pandas as pd\n",
    "df_text = pd.DataFrame.from_dict(scrape_dictionary, orient = 'index', columns = ['text'])\n",
    "df_text.index.name = 'date'\n",
    "df_text.tail(2)"
   ]
  },
  {
   "cell_type": "markdown",
   "id": "9501c648-ff71-47be-a3ff-22ff42db9ed5",
   "metadata": {},
   "source": [
    "### 1.2.4 Export"
   ]
  },
  {
   "cell_type": "code",
   "execution_count": null,
   "id": "41f0ed2f-637c-455f-bd3e-88e8251d6279",
   "metadata": {},
   "outputs": [
    {
     "data": {
      "text/plain": [
       "[]"
      ]
     },
     "execution_count": 83,
     "metadata": {},
     "output_type": "execute_result"
    }
   ],
   "source": [
    "import os\n",
    "export_path = \"../data/raw\"\n",
    "os.listdir(export_path)"
   ]
  },
  {
   "cell_type": "code",
   "execution_count": 85,
   "id": "b93bddc1-94ae-4328-bb90-c0ff1f4dfa8e",
   "metadata": {},
   "outputs": [],
   "source": [
    "file_name = f\"{export_path}/eu_press_releases_ghg.csv\"\n",
    "df_text.to_csv(file_name)"
   ]
  },
  {
   "cell_type": "code",
   "execution_count": 88,
   "id": "8fd962af-941e-497a-9163-70ec87d453f4",
   "metadata": {},
   "outputs": [
    {
     "data": {
      "text/html": [
       "<div>\n",
       "<style scoped>\n",
       "    .dataframe tbody tr th:only-of-type {\n",
       "        vertical-align: middle;\n",
       "    }\n",
       "\n",
       "    .dataframe tbody tr th {\n",
       "        vertical-align: top;\n",
       "    }\n",
       "\n",
       "    .dataframe thead th {\n",
       "        text-align: right;\n",
       "    }\n",
       "</style>\n",
       "<table border=\"1\" class=\"dataframe\">\n",
       "  <thead>\n",
       "    <tr style=\"text-align: right;\">\n",
       "      <th></th>\n",
       "      <th>date</th>\n",
       "      <th>text</th>\n",
       "    </tr>\n",
       "  </thead>\n",
       "  <tbody>\n",
       "    <tr>\n",
       "      <th>0</th>\n",
       "      <td>May_26_2025</td>\n",
       "      <td>Daily News 26 / 05 / 2025\\nEU organises firefi...</td>\n",
       "    </tr>\n",
       "    <tr>\n",
       "      <th>1</th>\n",
       "      <td>May_20_2025</td>\n",
       "      <td>Commission approves €1.2 billion Dutch State a...</td>\n",
       "    </tr>\n",
       "  </tbody>\n",
       "</table>\n",
       "</div>"
      ],
      "text/plain": [
       "          date                                               text\n",
       "0  May_26_2025  Daily News 26 / 05 / 2025\\nEU organises firefi...\n",
       "1  May_20_2025  Commission approves €1.2 billion Dutch State a..."
      ]
     },
     "execution_count": 88,
     "metadata": {},
     "output_type": "execute_result"
    }
   ],
   "source": [
    "pd.read_csv(file_name).head(2)"
   ]
  },
  {
   "cell_type": "code",
   "execution_count": null,
   "id": "56949732-3afc-409d-ac16-d4801d387b4d",
   "metadata": {},
   "outputs": [],
   "source": []
  }
 ],
 "metadata": {
  "kernelspec": {
   "display_name": ".venv",
   "language": "python",
   "name": "python3"
  },
  "language_info": {
   "codemirror_mode": {
    "name": "ipython",
    "version": 3
   },
   "file_extension": ".py",
   "mimetype": "text/x-python",
   "name": "python",
   "nbconvert_exporter": "python",
   "pygments_lexer": "ipython3",
   "version": "3.13.3"
  }
 },
 "nbformat": 4,
 "nbformat_minor": 5
}
