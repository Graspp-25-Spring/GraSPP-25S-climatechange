{
 "cells": [
  {
   "cell_type": "markdown",
   "id": "275d3ff8",
   "metadata": {},
   "source": [
    "# NDC data processing and word counting"
   ]
  },
  {
   "cell_type": "markdown",
   "id": "7fc8bb5b",
   "metadata": {},
   "source": [
    "## Import data "
   ]
  },
  {
   "cell_type": "code",
   "execution_count": 4,
   "id": "7fe1bbf9",
   "metadata": {},
   "outputs": [
    {
     "data": {
      "text/html": [
       "<div>\n",
       "<style scoped>\n",
       "    .dataframe tbody tr th:only-of-type {\n",
       "        vertical-align: middle;\n",
       "    }\n",
       "\n",
       "    .dataframe tbody tr th {\n",
       "        vertical-align: top;\n",
       "    }\n",
       "\n",
       "    .dataframe thead th {\n",
       "        text-align: right;\n",
       "    }\n",
       "</style>\n",
       "<table border=\"1\" class=\"dataframe\">\n",
       "  <thead>\n",
       "    <tr style=\"text-align: right;\">\n",
       "      <th></th>\n",
       "      <th>country</th>\n",
       "      <th>text</th>\n",
       "    </tr>\n",
       "  </thead>\n",
       "  <tbody>\n",
       "    <tr>\n",
       "      <th>0</th>\n",
       "      <td>EU</td>\n",
       "      <td>1  Update of the NDC of the European  Unio...</td>\n",
       "    </tr>\n",
       "    <tr>\n",
       "      <th>1</th>\n",
       "      <td>EU</td>\n",
       "      <td>2  Update of the NDC of the European  Unio...</td>\n",
       "    </tr>\n",
       "    <tr>\n",
       "      <th>2</th>\n",
       "      <td>EU</td>\n",
       "      <td>3  Update of the NDC of the European  Unio...</td>\n",
       "    </tr>\n",
       "    <tr>\n",
       "      <th>3</th>\n",
       "      <td>EU</td>\n",
       "      <td>4  Update of the NDC of the European  Unio...</td>\n",
       "    </tr>\n",
       "    <tr>\n",
       "      <th>4</th>\n",
       "      <td>EU</td>\n",
       "      <td>5  Update of the NDC of the European  Unio...</td>\n",
       "    </tr>\n",
       "  </tbody>\n",
       "</table>\n",
       "</div>"
      ],
      "text/plain": [
       "  country                                               text\n",
       "0      EU      1  Update of the NDC of the European  Unio...\n",
       "1      EU      2  Update of the NDC of the European  Unio...\n",
       "2      EU      3  Update of the NDC of the European  Unio...\n",
       "3      EU      4  Update of the NDC of the European  Unio...\n",
       "4      EU      5  Update of the NDC of the European  Unio..."
      ]
     },
     "execution_count": 4,
     "metadata": {},
     "output_type": "execute_result"
    }
   ],
   "source": [
    "import PyPDF2\n",
    "import pandas as pd\n",
    "\n",
    "pdf_path = {\"EU\": \"../data/raw/ES-2023-10-17 EU submission NDC update.pdf\",\n",
    "            \"US\": \"../data/raw/United States 2035 NDC.pdf\"}\n",
    "\n",
    "dfs = []\n",
    "\n",
    "for key, path in pdf_path.items():\n",
    "    with open(path, 'rb') as file:\n",
    "        reader = PyPDF2.PdfReader(file)\n",
    "        text_list = [page.extract_text().replace('\\n', '') \\\n",
    "                    if page.extract_text() else '' for page in reader.pages]\n",
    "    df = pd.DataFrame({'country': key, 'text': text_list})\n",
    "    dfs.append(df)\n",
    "\n",
    "df = pd.concat(dfs, ignore_index=True)\n",
    "df.head()"
   ]
  },
  {
   "cell_type": "markdown",
   "id": "40565f4d",
   "metadata": {},
   "source": [
    "## Word count"
   ]
  },
  {
   "cell_type": "code",
   "execution_count": 7,
   "id": "77c8a307",
   "metadata": {},
   "outputs": [
    {
     "data": {
      "text/html": [
       "<div>\n",
       "<style scoped>\n",
       "    .dataframe tbody tr th:only-of-type {\n",
       "        vertical-align: middle;\n",
       "    }\n",
       "\n",
       "    .dataframe tbody tr th {\n",
       "        vertical-align: top;\n",
       "    }\n",
       "\n",
       "    .dataframe thead th {\n",
       "        text-align: right;\n",
       "    }\n",
       "</style>\n",
       "<table border=\"1\" class=\"dataframe\">\n",
       "  <thead>\n",
       "    <tr style=\"text-align: right;\">\n",
       "      <th></th>\n",
       "      <th>ghg</th>\n",
       "      <th>greenhouse</th>\n",
       "      <th>net-zero</th>\n",
       "      <th>carbon</th>\n",
       "      <th>country</th>\n",
       "    </tr>\n",
       "  </thead>\n",
       "  <tbody>\n",
       "    <tr>\n",
       "      <th>0</th>\n",
       "      <td>7</td>\n",
       "      <td>29</td>\n",
       "      <td>0</td>\n",
       "      <td>21</td>\n",
       "      <td>EU</td>\n",
       "    </tr>\n",
       "    <tr>\n",
       "      <th>1</th>\n",
       "      <td>3</td>\n",
       "      <td>58</td>\n",
       "      <td>0</td>\n",
       "      <td>33</td>\n",
       "      <td>US</td>\n",
       "    </tr>\n",
       "  </tbody>\n",
       "</table>\n",
       "</div>"
      ],
      "text/plain": [
       "   ghg  greenhouse  net-zero  carbon country\n",
       "0    7          29         0      21      EU\n",
       "1    3          58         0      33      US"
      ]
     },
     "execution_count": 7,
     "metadata": {},
     "output_type": "execute_result"
    }
   ],
   "source": [
    "from sklearn.feature_extraction.text import CountVectorizer\n",
    "\n",
    "vocab_list = ['ghg', 'greenhouse', 'net-zero', 'carbon']\n",
    "vectorizer = CountVectorizer(\n",
    "    stop_words='english',     # Remove stop words. Can be a list of stop words or a string from {'english', 'spanish'}.\n",
    "    lowercase=True,           # Convert text to lowercase.\n",
    "    ngram_range=(1, 1),\n",
    "    vocabulary=vocab_list\n",
    ")\n",
    "\n",
    "dfs_count = []\n",
    "\n",
    "for country in df['country'].unique():\n",
    "    counts = vectorizer.fit_transform(df.loc[df[\"country\"] == country, 'text']).toarray().sum(axis=0)\n",
    "    word_freq = dict(zip(vectorizer.get_feature_names_out(), counts))\n",
    "    row = word_freq.copy()\n",
    "    row['country'] = country\n",
    "    df_count = pd.DataFrame([row])\n",
    "    dfs_count.append(df_count)\n",
    "\n",
    "df_count = pd.concat(dfs_count, ignore_index=True)\n",
    "df_count.head()"
   ]
  },
  {
   "cell_type": "markdown",
   "id": "b078444c",
   "metadata": {},
   "source": [
    "## Export results"
   ]
  },
  {
   "cell_type": "code",
   "execution_count": 9,
   "id": "ffdfe1e0",
   "metadata": {},
   "outputs": [],
   "source": [
    "df_count.to_csv('../data/processed/ndc_word_counts.csv', index=False)"
   ]
  },
  {
   "cell_type": "code",
   "execution_count": null,
   "id": "8cb6aea8",
   "metadata": {},
   "outputs": [],
   "source": []
  }
 ],
 "metadata": {
  "kernelspec": {
   "display_name": ".venv",
   "language": "python",
   "name": "python3"
  },
  "language_info": {
   "codemirror_mode": {
    "name": "ipython",
    "version": 3
   },
   "file_extension": ".py",
   "mimetype": "text/x-python",
   "name": "python",
   "nbconvert_exporter": "python",
   "pygments_lexer": "ipython3",
   "version": "3.12.11"
  }
 },
 "nbformat": 4,
 "nbformat_minor": 5
}
